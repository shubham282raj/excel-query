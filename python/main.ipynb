{
 "cells": [
  {
   "cell_type": "code",
   "execution_count": 3,
   "metadata": {},
   "outputs": [],
   "source": [
    "from bs4 import BeautifulSoup\n",
    "import pandas as pd"
   ]
  },
  {
   "cell_type": "code",
   "execution_count": 19,
   "metadata": {},
   "outputs": [],
   "source": [
    "def html_to_excel(url):\n",
    "  with open(url, 'r', encoding='utf-8') as file:\n",
    "      html_content = file.read()\n",
    "\n",
    "  soup = BeautifulSoup(html_content, 'html.parser')\n",
    "\n",
    "  table = soup.find('table')\n",
    "\n",
    "  list = []\n",
    "  if table:\n",
    "      rows = table.find_all('tr')\n",
    "      for row in rows:\n",
    "          cells = row.find_all(['td', 'th'])\n",
    "          row_data = []\n",
    "          for cell in cells:\n",
    "              row_data.append(cell.text.strip())\n",
    "          list.append(row_data)\n",
    "\n",
    "  df = pd.DataFrame(list[1:])\n",
    "  df.columns = list[0]\n",
    "  for column in df.columns:\n",
    "    df[column] = df[column].str.replace(r'\\s+', ' ', regex=True)\n",
    "  df.to_excel(f\"../sheets/{file.name.split('/')[-1].split('.')[0]}.xlsx\", index=False)"
   ]
  },
  {
   "cell_type": "code",
   "execution_count": 20,
   "metadata": {},
   "outputs": [],
   "source": [
    "html_files = [\n",
    "  \"./html/2023_round6.html\",\n",
    "  \"./html/2022_round6.html\",\n",
    "  \"./html/2021_round6.html\"\n",
    "]\n",
    "\n",
    "for file in html_files:\n",
    "  html_to_excel(file)"
   ]
  },
  {
   "cell_type": "code",
   "execution_count": null,
   "metadata": {},
   "outputs": [],
   "source": []
  }
 ],
 "metadata": {
  "kernelspec": {
   "display_name": "venv",
   "language": "python",
   "name": "python3"
  },
  "language_info": {
   "codemirror_mode": {
    "name": "ipython",
    "version": 3
   },
   "file_extension": ".py",
   "mimetype": "text/x-python",
   "name": "python",
   "nbconvert_exporter": "python",
   "pygments_lexer": "ipython3",
   "version": "3.12.4"
  }
 },
 "nbformat": 4,
 "nbformat_minor": 2
}
